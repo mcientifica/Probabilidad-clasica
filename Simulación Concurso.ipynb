{
 "cells": [
  {
   "cell_type": "markdown",
   "id": "42b67bab-d2fd-41d2-ae16-4b0d64139166",
   "metadata": {},
   "source": [
    "### SIMULACIÓN CONCURSO"
   ]
  },
  {
   "cell_type": "code",
   "execution_count": 5,
   "id": "c91846ca-fb03-40ac-9ae1-53ad178ca3ea",
   "metadata": {},
   "outputs": [],
   "source": [
    "import numpy as np"
   ]
  },
  {
   "cell_type": "code",
   "execution_count": 7,
   "id": "6b918275-0069-4a33-844e-f99223c4d3e9",
   "metadata": {},
   "outputs": [
    {
     "data": {
      "text/plain": [
       "0.6574"
      ]
     },
     "execution_count": 7,
     "metadata": {},
     "output_type": "execute_result"
    }
   ],
   "source": [
    "partidas_ganadas = 0\n",
    "partidas_perdidas = 0\n",
    "partidas = 10000\n",
    "\n",
    "for i in range(partidas):\n",
    "    # defino puerta ganadora\n",
    "    ganadora = np.random.choice([1,2,3])\n",
    "    \n",
    "    # selecciono una puerta\n",
    "    seleccionada_inicialmente = np.random.choice([1,2,3])\n",
    "    \n",
    "    # el presentador abre una puerta y queda solo mi puerta y otra mas\n",
    "    if seleccionada_inicialmente == ganadora: \n",
    "         partidas_perdidas += 1 # pierdo al cambiar de puerta\n",
    "    elif seleccionada_inicialmente != ganadora:\n",
    "        partidas_ganadas += 1 # gano al cambiar de puerta\n",
    "\n",
    "partidas_ganadas/partidas"
   ]
  },
  {
   "cell_type": "code",
   "execution_count": 9,
   "id": "2eb887f2-68f8-43da-9e8e-65aa867be330",
   "metadata": {},
   "outputs": [
    {
     "data": {
      "text/plain": [
       "0.3426"
      ]
     },
     "execution_count": 9,
     "metadata": {},
     "output_type": "execute_result"
    }
   ],
   "source": [
    "partidas_perdidas/partidas"
   ]
  }
 ],
 "metadata": {
  "kernelspec": {
   "display_name": "Python 3 (ipykernel)",
   "language": "python",
   "name": "python3"
  },
  "language_info": {
   "codemirror_mode": {
    "name": "ipython",
    "version": 3
   },
   "file_extension": ".py",
   "mimetype": "text/x-python",
   "name": "python",
   "nbconvert_exporter": "python",
   "pygments_lexer": "ipython3",
   "version": "3.11.7"
  }
 },
 "nbformat": 4,
 "nbformat_minor": 5
}
